{
  "nbformat": 4,
  "nbformat_minor": 0,
  "metadata": {
    "colab": {
      "name": "EEG epilepsy.ipynb",
      "provenance": [],
      "collapsed_sections": [],
      "authorship_tag": "ABX9TyMfrI8kbhAyaRBCiOwENSjc",
      "include_colab_link": true
    },
    "kernelspec": {
      "name": "python3",
      "display_name": "Python 3"
    },
    "accelerator": "GPU"
  },
  "cells": [
    {
      "cell_type": "markdown",
      "metadata": {
        "id": "view-in-github",
        "colab_type": "text"
      },
      "source": [
        "<a href=\"https://colab.research.google.com/github/OnkarMulay10/EEG_Epilepsy/blob/main/EEG_epilepsy.ipynb\" target=\"_parent\"><img src=\"https://colab.research.google.com/assets/colab-badge.svg\" alt=\"Open In Colab\"/></a>"
      ]
    },
    {
      "cell_type": "code",
      "metadata": {
        "id": "ZgH0OK0of1mh"
      },
      "source": [
        "import pandas as pd\n",
        "import numpy as np\n",
        "from matplotlib import pyplot as plt\n",
        "from sklearn.preprocessing import Normalizer"
      ],
      "execution_count": 1,
      "outputs": []
    },
    {
      "cell_type": "code",
      "metadata": {
        "colab": {
          "base_uri": "https://localhost:8080/"
        },
        "id": "sE6FsTtthYQt",
        "outputId": "7f5b5ff5-1e8b-481f-fb14-35218617739a"
      },
      "source": [
        "d=pd.read_csv('data.csv')\n",
        "print(d.shape)"
      ],
      "execution_count": 2,
      "outputs": [
        {
          "output_type": "stream",
          "text": [
            "(11500, 180)\n"
          ],
          "name": "stdout"
        }
      ]
    },
    {
      "cell_type": "code",
      "metadata": {
        "colab": {
          "base_uri": "https://localhost:8080/",
          "height": 411
        },
        "id": "am2JVkSEpIWX",
        "outputId": "89148263-caa1-48d3-a0dd-65cd716bca42"
      },
      "source": [
        "d.head(10)"
      ],
      "execution_count": 3,
      "outputs": [
        {
          "output_type": "execute_result",
          "data": {
            "text/html": [
              "<div>\n",
              "<style scoped>\n",
              "    .dataframe tbody tr th:only-of-type {\n",
              "        vertical-align: middle;\n",
              "    }\n",
              "\n",
              "    .dataframe tbody tr th {\n",
              "        vertical-align: top;\n",
              "    }\n",
              "\n",
              "    .dataframe thead th {\n",
              "        text-align: right;\n",
              "    }\n",
              "</style>\n",
              "<table border=\"1\" class=\"dataframe\">\n",
              "  <thead>\n",
              "    <tr style=\"text-align: right;\">\n",
              "      <th></th>\n",
              "      <th>Unnamed: 0</th>\n",
              "      <th>X1</th>\n",
              "      <th>X2</th>\n",
              "      <th>X3</th>\n",
              "      <th>X4</th>\n",
              "      <th>X5</th>\n",
              "      <th>X6</th>\n",
              "      <th>X7</th>\n",
              "      <th>X8</th>\n",
              "      <th>X9</th>\n",
              "      <th>X10</th>\n",
              "      <th>X11</th>\n",
              "      <th>X12</th>\n",
              "      <th>X13</th>\n",
              "      <th>X14</th>\n",
              "      <th>X15</th>\n",
              "      <th>X16</th>\n",
              "      <th>X17</th>\n",
              "      <th>X18</th>\n",
              "      <th>X19</th>\n",
              "      <th>X20</th>\n",
              "      <th>X21</th>\n",
              "      <th>X22</th>\n",
              "      <th>X23</th>\n",
              "      <th>X24</th>\n",
              "      <th>X25</th>\n",
              "      <th>X26</th>\n",
              "      <th>X27</th>\n",
              "      <th>X28</th>\n",
              "      <th>X29</th>\n",
              "      <th>X30</th>\n",
              "      <th>X31</th>\n",
              "      <th>X32</th>\n",
              "      <th>X33</th>\n",
              "      <th>X34</th>\n",
              "      <th>X35</th>\n",
              "      <th>X36</th>\n",
              "      <th>X37</th>\n",
              "      <th>X38</th>\n",
              "      <th>X39</th>\n",
              "      <th>...</th>\n",
              "      <th>X140</th>\n",
              "      <th>X141</th>\n",
              "      <th>X142</th>\n",
              "      <th>X143</th>\n",
              "      <th>X144</th>\n",
              "      <th>X145</th>\n",
              "      <th>X146</th>\n",
              "      <th>X147</th>\n",
              "      <th>X148</th>\n",
              "      <th>X149</th>\n",
              "      <th>X150</th>\n",
              "      <th>X151</th>\n",
              "      <th>X152</th>\n",
              "      <th>X153</th>\n",
              "      <th>X154</th>\n",
              "      <th>X155</th>\n",
              "      <th>X156</th>\n",
              "      <th>X157</th>\n",
              "      <th>X158</th>\n",
              "      <th>X159</th>\n",
              "      <th>X160</th>\n",
              "      <th>X161</th>\n",
              "      <th>X162</th>\n",
              "      <th>X163</th>\n",
              "      <th>X164</th>\n",
              "      <th>X165</th>\n",
              "      <th>X166</th>\n",
              "      <th>X167</th>\n",
              "      <th>X168</th>\n",
              "      <th>X169</th>\n",
              "      <th>X170</th>\n",
              "      <th>X171</th>\n",
              "      <th>X172</th>\n",
              "      <th>X173</th>\n",
              "      <th>X174</th>\n",
              "      <th>X175</th>\n",
              "      <th>X176</th>\n",
              "      <th>X177</th>\n",
              "      <th>X178</th>\n",
              "      <th>y</th>\n",
              "    </tr>\n",
              "  </thead>\n",
              "  <tbody>\n",
              "    <tr>\n",
              "      <th>0</th>\n",
              "      <td>X21.V1.791</td>\n",
              "      <td>135</td>\n",
              "      <td>190</td>\n",
              "      <td>229</td>\n",
              "      <td>223</td>\n",
              "      <td>192</td>\n",
              "      <td>125</td>\n",
              "      <td>55</td>\n",
              "      <td>-9</td>\n",
              "      <td>-33</td>\n",
              "      <td>-38</td>\n",
              "      <td>-10</td>\n",
              "      <td>35</td>\n",
              "      <td>64</td>\n",
              "      <td>113</td>\n",
              "      <td>152</td>\n",
              "      <td>164</td>\n",
              "      <td>127</td>\n",
              "      <td>50</td>\n",
              "      <td>-47</td>\n",
              "      <td>-121</td>\n",
              "      <td>-138</td>\n",
              "      <td>-125</td>\n",
              "      <td>-101</td>\n",
              "      <td>-50</td>\n",
              "      <td>11</td>\n",
              "      <td>39</td>\n",
              "      <td>24</td>\n",
              "      <td>48</td>\n",
              "      <td>64</td>\n",
              "      <td>46</td>\n",
              "      <td>13</td>\n",
              "      <td>-19</td>\n",
              "      <td>-61</td>\n",
              "      <td>-96</td>\n",
              "      <td>-130</td>\n",
              "      <td>-132</td>\n",
              "      <td>-116</td>\n",
              "      <td>-115</td>\n",
              "      <td>-71</td>\n",
              "      <td>...</td>\n",
              "      <td>54</td>\n",
              "      <td>90</td>\n",
              "      <td>111</td>\n",
              "      <td>107</td>\n",
              "      <td>64</td>\n",
              "      <td>32</td>\n",
              "      <td>18</td>\n",
              "      <td>-25</td>\n",
              "      <td>-69</td>\n",
              "      <td>-65</td>\n",
              "      <td>-44</td>\n",
              "      <td>-33</td>\n",
              "      <td>-57</td>\n",
              "      <td>-88</td>\n",
              "      <td>-114</td>\n",
              "      <td>-130</td>\n",
              "      <td>-114</td>\n",
              "      <td>-83</td>\n",
              "      <td>-53</td>\n",
              "      <td>-79</td>\n",
              "      <td>-72</td>\n",
              "      <td>-85</td>\n",
              "      <td>-109</td>\n",
              "      <td>-98</td>\n",
              "      <td>-72</td>\n",
              "      <td>-65</td>\n",
              "      <td>-63</td>\n",
              "      <td>-11</td>\n",
              "      <td>10</td>\n",
              "      <td>8</td>\n",
              "      <td>-17</td>\n",
              "      <td>-15</td>\n",
              "      <td>-31</td>\n",
              "      <td>-77</td>\n",
              "      <td>-103</td>\n",
              "      <td>-127</td>\n",
              "      <td>-116</td>\n",
              "      <td>-83</td>\n",
              "      <td>-51</td>\n",
              "      <td>4</td>\n",
              "    </tr>\n",
              "    <tr>\n",
              "      <th>1</th>\n",
              "      <td>X15.V1.924</td>\n",
              "      <td>386</td>\n",
              "      <td>382</td>\n",
              "      <td>356</td>\n",
              "      <td>331</td>\n",
              "      <td>320</td>\n",
              "      <td>315</td>\n",
              "      <td>307</td>\n",
              "      <td>272</td>\n",
              "      <td>244</td>\n",
              "      <td>232</td>\n",
              "      <td>237</td>\n",
              "      <td>258</td>\n",
              "      <td>212</td>\n",
              "      <td>2</td>\n",
              "      <td>-267</td>\n",
              "      <td>-605</td>\n",
              "      <td>-850</td>\n",
              "      <td>-1001</td>\n",
              "      <td>-1109</td>\n",
              "      <td>-1090</td>\n",
              "      <td>-967</td>\n",
              "      <td>-746</td>\n",
              "      <td>-464</td>\n",
              "      <td>-152</td>\n",
              "      <td>118</td>\n",
              "      <td>318</td>\n",
              "      <td>427</td>\n",
              "      <td>473</td>\n",
              "      <td>485</td>\n",
              "      <td>447</td>\n",
              "      <td>397</td>\n",
              "      <td>339</td>\n",
              "      <td>312</td>\n",
              "      <td>314</td>\n",
              "      <td>326</td>\n",
              "      <td>335</td>\n",
              "      <td>332</td>\n",
              "      <td>324</td>\n",
              "      <td>310</td>\n",
              "      <td>...</td>\n",
              "      <td>27</td>\n",
              "      <td>146</td>\n",
              "      <td>229</td>\n",
              "      <td>269</td>\n",
              "      <td>297</td>\n",
              "      <td>307</td>\n",
              "      <td>303</td>\n",
              "      <td>305</td>\n",
              "      <td>306</td>\n",
              "      <td>307</td>\n",
              "      <td>280</td>\n",
              "      <td>231</td>\n",
              "      <td>159</td>\n",
              "      <td>85</td>\n",
              "      <td>51</td>\n",
              "      <td>43</td>\n",
              "      <td>62</td>\n",
              "      <td>63</td>\n",
              "      <td>63</td>\n",
              "      <td>69</td>\n",
              "      <td>89</td>\n",
              "      <td>123</td>\n",
              "      <td>136</td>\n",
              "      <td>127</td>\n",
              "      <td>102</td>\n",
              "      <td>95</td>\n",
              "      <td>105</td>\n",
              "      <td>131</td>\n",
              "      <td>163</td>\n",
              "      <td>168</td>\n",
              "      <td>164</td>\n",
              "      <td>150</td>\n",
              "      <td>146</td>\n",
              "      <td>152</td>\n",
              "      <td>157</td>\n",
              "      <td>156</td>\n",
              "      <td>154</td>\n",
              "      <td>143</td>\n",
              "      <td>129</td>\n",
              "      <td>1</td>\n",
              "    </tr>\n",
              "    <tr>\n",
              "      <th>2</th>\n",
              "      <td>X8.V1.1</td>\n",
              "      <td>-32</td>\n",
              "      <td>-39</td>\n",
              "      <td>-47</td>\n",
              "      <td>-37</td>\n",
              "      <td>-32</td>\n",
              "      <td>-36</td>\n",
              "      <td>-57</td>\n",
              "      <td>-73</td>\n",
              "      <td>-85</td>\n",
              "      <td>-94</td>\n",
              "      <td>-99</td>\n",
              "      <td>-94</td>\n",
              "      <td>-96</td>\n",
              "      <td>-104</td>\n",
              "      <td>-103</td>\n",
              "      <td>-92</td>\n",
              "      <td>-75</td>\n",
              "      <td>-69</td>\n",
              "      <td>-69</td>\n",
              "      <td>-53</td>\n",
              "      <td>-37</td>\n",
              "      <td>-14</td>\n",
              "      <td>-10</td>\n",
              "      <td>-39</td>\n",
              "      <td>-78</td>\n",
              "      <td>-102</td>\n",
              "      <td>-98</td>\n",
              "      <td>-80</td>\n",
              "      <td>-54</td>\n",
              "      <td>-40</td>\n",
              "      <td>-35</td>\n",
              "      <td>-39</td>\n",
              "      <td>-32</td>\n",
              "      <td>-13</td>\n",
              "      <td>7</td>\n",
              "      <td>34</td>\n",
              "      <td>41</td>\n",
              "      <td>33</td>\n",
              "      <td>6</td>\n",
              "      <td>...</td>\n",
              "      <td>-82</td>\n",
              "      <td>-107</td>\n",
              "      <td>-126</td>\n",
              "      <td>-124</td>\n",
              "      <td>-108</td>\n",
              "      <td>-84</td>\n",
              "      <td>-68</td>\n",
              "      <td>-61</td>\n",
              "      <td>-56</td>\n",
              "      <td>-63</td>\n",
              "      <td>-62</td>\n",
              "      <td>-33</td>\n",
              "      <td>1</td>\n",
              "      <td>28</td>\n",
              "      <td>45</td>\n",
              "      <td>37</td>\n",
              "      <td>48</td>\n",
              "      <td>62</td>\n",
              "      <td>80</td>\n",
              "      <td>66</td>\n",
              "      <td>23</td>\n",
              "      <td>-11</td>\n",
              "      <td>-39</td>\n",
              "      <td>-44</td>\n",
              "      <td>-42</td>\n",
              "      <td>-45</td>\n",
              "      <td>-48</td>\n",
              "      <td>-42</td>\n",
              "      <td>-6</td>\n",
              "      <td>29</td>\n",
              "      <td>57</td>\n",
              "      <td>64</td>\n",
              "      <td>48</td>\n",
              "      <td>19</td>\n",
              "      <td>-12</td>\n",
              "      <td>-30</td>\n",
              "      <td>-35</td>\n",
              "      <td>-35</td>\n",
              "      <td>-36</td>\n",
              "      <td>5</td>\n",
              "    </tr>\n",
              "    <tr>\n",
              "      <th>3</th>\n",
              "      <td>X16.V1.60</td>\n",
              "      <td>-105</td>\n",
              "      <td>-101</td>\n",
              "      <td>-96</td>\n",
              "      <td>-92</td>\n",
              "      <td>-89</td>\n",
              "      <td>-95</td>\n",
              "      <td>-102</td>\n",
              "      <td>-100</td>\n",
              "      <td>-87</td>\n",
              "      <td>-79</td>\n",
              "      <td>-72</td>\n",
              "      <td>-68</td>\n",
              "      <td>-74</td>\n",
              "      <td>-80</td>\n",
              "      <td>-83</td>\n",
              "      <td>-73</td>\n",
              "      <td>-68</td>\n",
              "      <td>-61</td>\n",
              "      <td>-58</td>\n",
              "      <td>-59</td>\n",
              "      <td>-64</td>\n",
              "      <td>-79</td>\n",
              "      <td>-84</td>\n",
              "      <td>-97</td>\n",
              "      <td>-94</td>\n",
              "      <td>-84</td>\n",
              "      <td>-77</td>\n",
              "      <td>-75</td>\n",
              "      <td>-72</td>\n",
              "      <td>-68</td>\n",
              "      <td>-76</td>\n",
              "      <td>-76</td>\n",
              "      <td>-72</td>\n",
              "      <td>-67</td>\n",
              "      <td>-69</td>\n",
              "      <td>-69</td>\n",
              "      <td>-69</td>\n",
              "      <td>-67</td>\n",
              "      <td>-68</td>\n",
              "      <td>...</td>\n",
              "      <td>-69</td>\n",
              "      <td>-66</td>\n",
              "      <td>-74</td>\n",
              "      <td>-69</td>\n",
              "      <td>-61</td>\n",
              "      <td>-51</td>\n",
              "      <td>-45</td>\n",
              "      <td>-45</td>\n",
              "      <td>-49</td>\n",
              "      <td>-58</td>\n",
              "      <td>-64</td>\n",
              "      <td>-78</td>\n",
              "      <td>-80</td>\n",
              "      <td>-90</td>\n",
              "      <td>-87</td>\n",
              "      <td>-83</td>\n",
              "      <td>-78</td>\n",
              "      <td>-64</td>\n",
              "      <td>-38</td>\n",
              "      <td>-22</td>\n",
              "      <td>-29</td>\n",
              "      <td>-42</td>\n",
              "      <td>-51</td>\n",
              "      <td>-68</td>\n",
              "      <td>-71</td>\n",
              "      <td>-69</td>\n",
              "      <td>-69</td>\n",
              "      <td>-74</td>\n",
              "      <td>-74</td>\n",
              "      <td>-80</td>\n",
              "      <td>-82</td>\n",
              "      <td>-81</td>\n",
              "      <td>-80</td>\n",
              "      <td>-77</td>\n",
              "      <td>-85</td>\n",
              "      <td>-77</td>\n",
              "      <td>-72</td>\n",
              "      <td>-69</td>\n",
              "      <td>-65</td>\n",
              "      <td>5</td>\n",
              "    </tr>\n",
              "    <tr>\n",
              "      <th>4</th>\n",
              "      <td>X20.V1.54</td>\n",
              "      <td>-9</td>\n",
              "      <td>-65</td>\n",
              "      <td>-98</td>\n",
              "      <td>-102</td>\n",
              "      <td>-78</td>\n",
              "      <td>-48</td>\n",
              "      <td>-16</td>\n",
              "      <td>0</td>\n",
              "      <td>-21</td>\n",
              "      <td>-59</td>\n",
              "      <td>-90</td>\n",
              "      <td>-103</td>\n",
              "      <td>-84</td>\n",
              "      <td>-43</td>\n",
              "      <td>-9</td>\n",
              "      <td>3</td>\n",
              "      <td>-21</td>\n",
              "      <td>-60</td>\n",
              "      <td>-96</td>\n",
              "      <td>-103</td>\n",
              "      <td>-75</td>\n",
              "      <td>-29</td>\n",
              "      <td>14</td>\n",
              "      <td>55</td>\n",
              "      <td>78</td>\n",
              "      <td>73</td>\n",
              "      <td>28</td>\n",
              "      <td>-13</td>\n",
              "      <td>-43</td>\n",
              "      <td>-68</td>\n",
              "      <td>-78</td>\n",
              "      <td>-75</td>\n",
              "      <td>-55</td>\n",
              "      <td>-41</td>\n",
              "      <td>-19</td>\n",
              "      <td>-20</td>\n",
              "      <td>-29</td>\n",
              "      <td>-36</td>\n",
              "      <td>-20</td>\n",
              "      <td>...</td>\n",
              "      <td>38</td>\n",
              "      <td>26</td>\n",
              "      <td>10</td>\n",
              "      <td>-4</td>\n",
              "      <td>-13</td>\n",
              "      <td>-8</td>\n",
              "      <td>0</td>\n",
              "      <td>10</td>\n",
              "      <td>19</td>\n",
              "      <td>29</td>\n",
              "      <td>57</td>\n",
              "      <td>63</td>\n",
              "      <td>45</td>\n",
              "      <td>7</td>\n",
              "      <td>-13</td>\n",
              "      <td>-23</td>\n",
              "      <td>-9</td>\n",
              "      <td>9</td>\n",
              "      <td>11</td>\n",
              "      <td>3</td>\n",
              "      <td>-1</td>\n",
              "      <td>-2</td>\n",
              "      <td>4</td>\n",
              "      <td>18</td>\n",
              "      <td>27</td>\n",
              "      <td>27</td>\n",
              "      <td>14</td>\n",
              "      <td>15</td>\n",
              "      <td>11</td>\n",
              "      <td>10</td>\n",
              "      <td>4</td>\n",
              "      <td>2</td>\n",
              "      <td>-12</td>\n",
              "      <td>-32</td>\n",
              "      <td>-41</td>\n",
              "      <td>-65</td>\n",
              "      <td>-83</td>\n",
              "      <td>-89</td>\n",
              "      <td>-73</td>\n",
              "      <td>5</td>\n",
              "    </tr>\n",
              "    <tr>\n",
              "      <th>5</th>\n",
              "      <td>X14.V1.56</td>\n",
              "      <td>55</td>\n",
              "      <td>28</td>\n",
              "      <td>18</td>\n",
              "      <td>16</td>\n",
              "      <td>16</td>\n",
              "      <td>19</td>\n",
              "      <td>25</td>\n",
              "      <td>40</td>\n",
              "      <td>52</td>\n",
              "      <td>66</td>\n",
              "      <td>81</td>\n",
              "      <td>98</td>\n",
              "      <td>111</td>\n",
              "      <td>122</td>\n",
              "      <td>105</td>\n",
              "      <td>85</td>\n",
              "      <td>66</td>\n",
              "      <td>51</td>\n",
              "      <td>34</td>\n",
              "      <td>19</td>\n",
              "      <td>16</td>\n",
              "      <td>8</td>\n",
              "      <td>-5</td>\n",
              "      <td>-21</td>\n",
              "      <td>-18</td>\n",
              "      <td>-14</td>\n",
              "      <td>3</td>\n",
              "      <td>27</td>\n",
              "      <td>46</td>\n",
              "      <td>57</td>\n",
              "      <td>60</td>\n",
              "      <td>51</td>\n",
              "      <td>35</td>\n",
              "      <td>22</td>\n",
              "      <td>20</td>\n",
              "      <td>28</td>\n",
              "      <td>28</td>\n",
              "      <td>35</td>\n",
              "      <td>43</td>\n",
              "      <td>...</td>\n",
              "      <td>-4</td>\n",
              "      <td>-17</td>\n",
              "      <td>-30</td>\n",
              "      <td>-45</td>\n",
              "      <td>-71</td>\n",
              "      <td>-81</td>\n",
              "      <td>-78</td>\n",
              "      <td>-69</td>\n",
              "      <td>-60</td>\n",
              "      <td>-45</td>\n",
              "      <td>-33</td>\n",
              "      <td>-25</td>\n",
              "      <td>-14</td>\n",
              "      <td>-2</td>\n",
              "      <td>3</td>\n",
              "      <td>-5</td>\n",
              "      <td>-18</td>\n",
              "      <td>-39</td>\n",
              "      <td>-61</td>\n",
              "      <td>-73</td>\n",
              "      <td>-77</td>\n",
              "      <td>-76</td>\n",
              "      <td>-79</td>\n",
              "      <td>-64</td>\n",
              "      <td>-40</td>\n",
              "      <td>-25</td>\n",
              "      <td>0</td>\n",
              "      <td>9</td>\n",
              "      <td>12</td>\n",
              "      <td>-6</td>\n",
              "      <td>-12</td>\n",
              "      <td>-31</td>\n",
              "      <td>-42</td>\n",
              "      <td>-54</td>\n",
              "      <td>-60</td>\n",
              "      <td>-64</td>\n",
              "      <td>-60</td>\n",
              "      <td>-56</td>\n",
              "      <td>-55</td>\n",
              "      <td>5</td>\n",
              "    </tr>\n",
              "    <tr>\n",
              "      <th>6</th>\n",
              "      <td>X3.V1.191</td>\n",
              "      <td>-55</td>\n",
              "      <td>-9</td>\n",
              "      <td>52</td>\n",
              "      <td>111</td>\n",
              "      <td>135</td>\n",
              "      <td>129</td>\n",
              "      <td>103</td>\n",
              "      <td>72</td>\n",
              "      <td>37</td>\n",
              "      <td>0</td>\n",
              "      <td>-38</td>\n",
              "      <td>-77</td>\n",
              "      <td>-113</td>\n",
              "      <td>-128</td>\n",
              "      <td>-121</td>\n",
              "      <td>-105</td>\n",
              "      <td>-71</td>\n",
              "      <td>-27</td>\n",
              "      <td>13</td>\n",
              "      <td>44</td>\n",
              "      <td>60</td>\n",
              "      <td>64</td>\n",
              "      <td>40</td>\n",
              "      <td>30</td>\n",
              "      <td>25</td>\n",
              "      <td>28</td>\n",
              "      <td>34</td>\n",
              "      <td>31</td>\n",
              "      <td>18</td>\n",
              "      <td>-19</td>\n",
              "      <td>-53</td>\n",
              "      <td>-76</td>\n",
              "      <td>-81</td>\n",
              "      <td>-74</td>\n",
              "      <td>-57</td>\n",
              "      <td>-36</td>\n",
              "      <td>-21</td>\n",
              "      <td>12</td>\n",
              "      <td>55</td>\n",
              "      <td>...</td>\n",
              "      <td>94</td>\n",
              "      <td>109</td>\n",
              "      <td>107</td>\n",
              "      <td>88</td>\n",
              "      <td>52</td>\n",
              "      <td>5</td>\n",
              "      <td>-24</td>\n",
              "      <td>-37</td>\n",
              "      <td>-50</td>\n",
              "      <td>-58</td>\n",
              "      <td>-66</td>\n",
              "      <td>-65</td>\n",
              "      <td>-60</td>\n",
              "      <td>-45</td>\n",
              "      <td>-20</td>\n",
              "      <td>1</td>\n",
              "      <td>23</td>\n",
              "      <td>50</td>\n",
              "      <td>74</td>\n",
              "      <td>99</td>\n",
              "      <td>125</td>\n",
              "      <td>141</td>\n",
              "      <td>129</td>\n",
              "      <td>95</td>\n",
              "      <td>41</td>\n",
              "      <td>-21</td>\n",
              "      <td>-77</td>\n",
              "      <td>-117</td>\n",
              "      <td>-135</td>\n",
              "      <td>-137</td>\n",
              "      <td>-125</td>\n",
              "      <td>-99</td>\n",
              "      <td>-79</td>\n",
              "      <td>-62</td>\n",
              "      <td>-41</td>\n",
              "      <td>-26</td>\n",
              "      <td>11</td>\n",
              "      <td>67</td>\n",
              "      <td>128</td>\n",
              "      <td>4</td>\n",
              "    </tr>\n",
              "    <tr>\n",
              "      <th>7</th>\n",
              "      <td>X11.V1.273</td>\n",
              "      <td>1</td>\n",
              "      <td>-2</td>\n",
              "      <td>-8</td>\n",
              "      <td>-11</td>\n",
              "      <td>-12</td>\n",
              "      <td>-17</td>\n",
              "      <td>-15</td>\n",
              "      <td>-16</td>\n",
              "      <td>-18</td>\n",
              "      <td>-17</td>\n",
              "      <td>-19</td>\n",
              "      <td>-18</td>\n",
              "      <td>-16</td>\n",
              "      <td>-15</td>\n",
              "      <td>-14</td>\n",
              "      <td>-21</td>\n",
              "      <td>-19</td>\n",
              "      <td>-24</td>\n",
              "      <td>-24</td>\n",
              "      <td>-24</td>\n",
              "      <td>-17</td>\n",
              "      <td>-20</td>\n",
              "      <td>-23</td>\n",
              "      <td>-15</td>\n",
              "      <td>-17</td>\n",
              "      <td>-20</td>\n",
              "      <td>-18</td>\n",
              "      <td>-19</td>\n",
              "      <td>-20</td>\n",
              "      <td>-19</td>\n",
              "      <td>-18</td>\n",
              "      <td>-20</td>\n",
              "      <td>-25</td>\n",
              "      <td>-27</td>\n",
              "      <td>-24</td>\n",
              "      <td>-22</td>\n",
              "      <td>-20</td>\n",
              "      <td>-9</td>\n",
              "      <td>0</td>\n",
              "      <td>...</td>\n",
              "      <td>-20</td>\n",
              "      <td>-26</td>\n",
              "      <td>-24</td>\n",
              "      <td>-25</td>\n",
              "      <td>-35</td>\n",
              "      <td>-41</td>\n",
              "      <td>-41</td>\n",
              "      <td>-53</td>\n",
              "      <td>-61</td>\n",
              "      <td>-58</td>\n",
              "      <td>-59</td>\n",
              "      <td>-55</td>\n",
              "      <td>-53</td>\n",
              "      <td>-65</td>\n",
              "      <td>-78</td>\n",
              "      <td>-87</td>\n",
              "      <td>-97</td>\n",
              "      <td>-100</td>\n",
              "      <td>-106</td>\n",
              "      <td>-104</td>\n",
              "      <td>-107</td>\n",
              "      <td>-110</td>\n",
              "      <td>-110</td>\n",
              "      <td>-109</td>\n",
              "      <td>-104</td>\n",
              "      <td>-118</td>\n",
              "      <td>-111</td>\n",
              "      <td>-102</td>\n",
              "      <td>-80</td>\n",
              "      <td>-67</td>\n",
              "      <td>-79</td>\n",
              "      <td>-91</td>\n",
              "      <td>-97</td>\n",
              "      <td>-88</td>\n",
              "      <td>-76</td>\n",
              "      <td>-72</td>\n",
              "      <td>-66</td>\n",
              "      <td>-57</td>\n",
              "      <td>-39</td>\n",
              "      <td>2</td>\n",
              "    </tr>\n",
              "    <tr>\n",
              "      <th>8</th>\n",
              "      <td>X19.V1.874</td>\n",
              "      <td>-278</td>\n",
              "      <td>-246</td>\n",
              "      <td>-215</td>\n",
              "      <td>-191</td>\n",
              "      <td>-177</td>\n",
              "      <td>-167</td>\n",
              "      <td>-157</td>\n",
              "      <td>-139</td>\n",
              "      <td>-118</td>\n",
              "      <td>-92</td>\n",
              "      <td>-63</td>\n",
              "      <td>-39</td>\n",
              "      <td>-11</td>\n",
              "      <td>14</td>\n",
              "      <td>36</td>\n",
              "      <td>60</td>\n",
              "      <td>70</td>\n",
              "      <td>78</td>\n",
              "      <td>79</td>\n",
              "      <td>69</td>\n",
              "      <td>27</td>\n",
              "      <td>-45</td>\n",
              "      <td>-123</td>\n",
              "      <td>-183</td>\n",
              "      <td>-218</td>\n",
              "      <td>-242</td>\n",
              "      <td>-256</td>\n",
              "      <td>-256</td>\n",
              "      <td>-236</td>\n",
              "      <td>-205</td>\n",
              "      <td>-165</td>\n",
              "      <td>-125</td>\n",
              "      <td>-84</td>\n",
              "      <td>-41</td>\n",
              "      <td>-10</td>\n",
              "      <td>12</td>\n",
              "      <td>35</td>\n",
              "      <td>58</td>\n",
              "      <td>71</td>\n",
              "      <td>...</td>\n",
              "      <td>74</td>\n",
              "      <td>79</td>\n",
              "      <td>81</td>\n",
              "      <td>76</td>\n",
              "      <td>65</td>\n",
              "      <td>63</td>\n",
              "      <td>62</td>\n",
              "      <td>65</td>\n",
              "      <td>67</td>\n",
              "      <td>70</td>\n",
              "      <td>63</td>\n",
              "      <td>45</td>\n",
              "      <td>20</td>\n",
              "      <td>-11</td>\n",
              "      <td>-32</td>\n",
              "      <td>-26</td>\n",
              "      <td>3</td>\n",
              "      <td>40</td>\n",
              "      <td>85</td>\n",
              "      <td>124</td>\n",
              "      <td>182</td>\n",
              "      <td>248</td>\n",
              "      <td>349</td>\n",
              "      <td>418</td>\n",
              "      <td>419</td>\n",
              "      <td>291</td>\n",
              "      <td>73</td>\n",
              "      <td>-152</td>\n",
              "      <td>-311</td>\n",
              "      <td>-386</td>\n",
              "      <td>-400</td>\n",
              "      <td>-379</td>\n",
              "      <td>-336</td>\n",
              "      <td>-281</td>\n",
              "      <td>-226</td>\n",
              "      <td>-174</td>\n",
              "      <td>-125</td>\n",
              "      <td>-79</td>\n",
              "      <td>-40</td>\n",
              "      <td>1</td>\n",
              "    </tr>\n",
              "    <tr>\n",
              "      <th>9</th>\n",
              "      <td>X3.V1.491</td>\n",
              "      <td>8</td>\n",
              "      <td>15</td>\n",
              "      <td>13</td>\n",
              "      <td>3</td>\n",
              "      <td>-6</td>\n",
              "      <td>-8</td>\n",
              "      <td>-5</td>\n",
              "      <td>4</td>\n",
              "      <td>25</td>\n",
              "      <td>41</td>\n",
              "      <td>48</td>\n",
              "      <td>44</td>\n",
              "      <td>34</td>\n",
              "      <td>16</td>\n",
              "      <td>-2</td>\n",
              "      <td>-11</td>\n",
              "      <td>-24</td>\n",
              "      <td>11</td>\n",
              "      <td>33</td>\n",
              "      <td>43</td>\n",
              "      <td>48</td>\n",
              "      <td>42</td>\n",
              "      <td>33</td>\n",
              "      <td>14</td>\n",
              "      <td>-1</td>\n",
              "      <td>-7</td>\n",
              "      <td>-17</td>\n",
              "      <td>-36</td>\n",
              "      <td>-59</td>\n",
              "      <td>-74</td>\n",
              "      <td>-88</td>\n",
              "      <td>-84</td>\n",
              "      <td>-64</td>\n",
              "      <td>-37</td>\n",
              "      <td>-8</td>\n",
              "      <td>24</td>\n",
              "      <td>47</td>\n",
              "      <td>49</td>\n",
              "      <td>42</td>\n",
              "      <td>...</td>\n",
              "      <td>39</td>\n",
              "      <td>29</td>\n",
              "      <td>12</td>\n",
              "      <td>-8</td>\n",
              "      <td>-10</td>\n",
              "      <td>-13</td>\n",
              "      <td>-12</td>\n",
              "      <td>-7</td>\n",
              "      <td>1</td>\n",
              "      <td>3</td>\n",
              "      <td>6</td>\n",
              "      <td>13</td>\n",
              "      <td>12</td>\n",
              "      <td>7</td>\n",
              "      <td>0</td>\n",
              "      <td>2</td>\n",
              "      <td>2</td>\n",
              "      <td>15</td>\n",
              "      <td>28</td>\n",
              "      <td>27</td>\n",
              "      <td>18</td>\n",
              "      <td>2</td>\n",
              "      <td>-5</td>\n",
              "      <td>-6</td>\n",
              "      <td>13</td>\n",
              "      <td>41</td>\n",
              "      <td>66</td>\n",
              "      <td>72</td>\n",
              "      <td>68</td>\n",
              "      <td>65</td>\n",
              "      <td>49</td>\n",
              "      <td>31</td>\n",
              "      <td>11</td>\n",
              "      <td>-5</td>\n",
              "      <td>-17</td>\n",
              "      <td>-19</td>\n",
              "      <td>-15</td>\n",
              "      <td>-15</td>\n",
              "      <td>-11</td>\n",
              "      <td>4</td>\n",
              "    </tr>\n",
              "  </tbody>\n",
              "</table>\n",
              "<p>10 rows × 180 columns</p>\n",
              "</div>"
            ],
            "text/plain": [
              "   Unnamed: 0   X1   X2   X3   X4   X5  ...  X174  X175  X176  X177  X178  y\n",
              "0  X21.V1.791  135  190  229  223  192  ...  -103  -127  -116   -83   -51  4\n",
              "1  X15.V1.924  386  382  356  331  320  ...   157   156   154   143   129  1\n",
              "2     X8.V1.1  -32  -39  -47  -37  -32  ...   -12   -30   -35   -35   -36  5\n",
              "3   X16.V1.60 -105 -101  -96  -92  -89  ...   -85   -77   -72   -69   -65  5\n",
              "4   X20.V1.54   -9  -65  -98 -102  -78  ...   -41   -65   -83   -89   -73  5\n",
              "5   X14.V1.56   55   28   18   16   16  ...   -60   -64   -60   -56   -55  5\n",
              "6   X3.V1.191  -55   -9   52  111  135  ...   -41   -26    11    67   128  4\n",
              "7  X11.V1.273    1   -2   -8  -11  -12  ...   -76   -72   -66   -57   -39  2\n",
              "8  X19.V1.874 -278 -246 -215 -191 -177  ...  -226  -174  -125   -79   -40  1\n",
              "9   X3.V1.491    8   15   13    3   -6  ...   -17   -19   -15   -15   -11  4\n",
              "\n",
              "[10 rows x 180 columns]"
            ]
          },
          "metadata": {
            "tags": []
          },
          "execution_count": 3
        }
      ]
    },
    {
      "cell_type": "markdown",
      "metadata": {
        "id": "H07YxLyTnB3V"
      },
      "source": [
        "##Data Transformation and Normalization\n"
      ]
    },
    {
      "cell_type": "markdown",
      "metadata": {
        "id": "998Dx8RrjXgP"
      },
      "source": [
        "##Balanced Dataset"
      ]
    },
    {
      "cell_type": "code",
      "metadata": {
        "colab": {
          "base_uri": "https://localhost:8080/",
          "height": 262
        },
        "id": "TrIXuIQRiOGf",
        "outputId": "4e18ab98-2403-4482-d43b-7df96b581b5d"
      },
      "source": [
        "d['y'].value_counts().plot(kind='bar');"
      ],
      "execution_count": 4,
      "outputs": [
        {
          "output_type": "display_data",
          "data": {
            "image/png": "[encoded data removed]",
            "text/plain": [
              "<Figure size 432x288 with 1 Axes>"
            ]
          },
          "metadata": {
            "tags": [],
            "needs_background": "light"
          }
        }
      ]
    },
    {
      "cell_type": "code",
      "metadata": {
        "id": "brJ7_8o_heok"
      },
      "source": [
        "d.rename(columns={ d.columns[0]: \"Index\" }, inplace = True)\n",
        "#d = d.set_index(d['Index'])\n",
        "#d.drop('Index',axis='columns',inplace=True)"
      ],
      "execution_count": 5,
      "outputs": []
    },
    {
      "cell_type": "markdown",
      "metadata": {
        "id": "EaOdmHV169PF"
      },
      "source": [
        "##Saumya Dataset\n"
      ]
    },
    {
      "cell_type": "code",
      "metadata": {
        "id": "Pc6Kg_ct7ACO"
      },
      "source": [
        "ds=d"
      ],
      "execution_count": 6,
      "outputs": []
    },
    {
      "cell_type": "markdown",
      "metadata": {
        "id": "BR0EtGZF7NGX"
      },
      "source": [
        "##Features"
      ]
    },
    {
      "cell_type": "code",
      "metadata": {
        "id": "_w_l-6JvnMYC"
      },
      "source": [
        "y=d.y\n",
        "d.drop(columns='y')\n",
        "d.iloc[:,1:] = Normalizer(norm='l1').fit_transform(d.iloc[:,1:])\n",
        "d['y']=y"
      ],
      "execution_count": 7,
      "outputs": []
    },
    {
      "cell_type": "code",
      "metadata": {
        "id": "kFI101wU7L5Z"
      },
      "source": [
        "d['y']=d['y'].astype(int)\n",
        "d_e=d[d[\"y\"]==1]\n",
        "d_ne=d[d[\"y\"]!=1]"
      ],
      "execution_count": 8,
      "outputs": []
    },
    {
      "cell_type": "code",
      "metadata": {
        "colab": {
          "base_uri": "https://localhost:8080/"
        },
        "id": "tQvjsx2DU5rl",
        "outputId": "667ef571-4587-44d6-80d0-254209dd459c"
      },
      "source": [
        "d_e.shape"
      ],
      "execution_count": 9,
      "outputs": [
        {
          "output_type": "execute_result",
          "data": {
            "text/plain": [
              "(2300, 180)"
            ]
          },
          "metadata": {
            "tags": []
          },
          "execution_count": 9
        }
      ]
    },
    {
      "cell_type": "code",
      "metadata": {
        "colab": {
          "base_uri": "https://localhost:8080/",
          "height": 449
        },
        "id": "B0MLfe2M7K7H",
        "outputId": "e7f1ce29-0c7b-40c1-99f6-dc1303a49045"
      },
      "source": [
        "matrix=d_e.iloc[:,1:179]\n",
        "plt.hist(matrix)"
      ],
      "execution_count": 10,
      "outputs": [
        {
          "output_type": "execute_result",
          "data": {
            "text/plain": [
              "(array([[ 0.,  0., 16., ...,  0.,  0.,  0.],\n",
              "        [ 0.,  0.,  8., ...,  0.,  0.,  0.],\n",
              "        [ 0.,  0.,  0., ...,  0.,  0.,  0.],\n",
              "        ...,\n",
              "        [ 0.,  0.,  3., ...,  0.,  0.,  0.],\n",
              "        [ 0.,  0.,  9., ...,  0.,  0.,  0.],\n",
              "        [ 0.,  0.,  7., ...,  0.,  0.,  0.]]),\n",
              " array([-0.04978339, -0.03779219, -0.02580099, -0.01380979, -0.00181859,\n",
              "         0.01017261,  0.02216381,  0.03415501,  0.04614621,  0.05813741,\n",
              "         0.07012861]),\n",
              " <a list of 2300 Lists of Patches objects>)"
            ]
          },
          "metadata": {
            "tags": []
          },
          "execution_count": 10
        },
        {
          "output_type": "display_data",
          "data": {
            "image/png": "[encoded data removed]",
            "text/plain": [
              "<Figure size 432x288 with 1 Axes>"
            ]
          },
          "metadata": {
            "tags": [],
            "needs_background": "light"
          }
        }
      ]
    },
    {
      "cell_type": "code",
      "metadata": {
        "colab": {
          "base_uri": "https://localhost:8080/",
          "height": 449
        },
        "id": "4D1WYfEZC1Mo",
        "outputId": "66900985-c006-4257-e98e-ae158f346dca"
      },
      "source": [
        "matrix2=d_ne.iloc[:,1:179]\n",
        "plt.hist(matrix2)"
      ],
      "execution_count": 11,
      "outputs": [
        {
          "output_type": "execute_result",
          "data": {
            "text/plain": [
              "(array([[0., 0., 3., ..., 0., 0., 0.],\n",
              "        [0., 0., 0., ..., 0., 0., 0.],\n",
              "        [0., 0., 0., ..., 0., 0., 0.],\n",
              "        ...,\n",
              "        [0., 0., 0., ..., 0., 0., 0.],\n",
              "        [0., 0., 0., ..., 0., 0., 0.],\n",
              "        [0., 0., 0., ..., 0., 0., 0.]]),\n",
              " array([-0.05184219, -0.04054031, -0.02923842, -0.01793654, -0.00663466,\n",
              "         0.00466723,  0.01596911,  0.027271  ,  0.03857288,  0.04987476,\n",
              "         0.06117665]),\n",
              " <a list of 9200 Lists of Patches objects>)"
            ]
          },
          "metadata": {
            "tags": []
          },
          "execution_count": 11
        },
        {
          "output_type": "display_data",
          "data": {
            "image/png": "[encoded data removed]",
            "text/plain": [
              "<Figure size 432x288 with 1 Axes>"
            ]
          },
          "metadata": {
            "tags": [],
            "needs_background": "light"
          }
        }
      ]
    },
    {
      "cell_type": "code",
      "metadata": {
        "id": "DlpowXoWDIl9"
      },
      "source": [
        "d.drop('y',axis='columns',inplace=True)"
      ],
      "execution_count": 12,
      "outputs": []
    },
    {
      "cell_type": "code",
      "metadata": {
        "id": "_q6t3odBD9Lt"
      },
      "source": [
        "df=pd.DataFrame()\n",
        "df['skew']=d.skew(axis = 1, skipna = True) \n",
        "df['mean']=d.mean(axis = 1, skipna = True)\n",
        "df['kurtosis']=d.kurtosis(axis = 1, skipna = True) \n",
        "df['variance']=d.var(axis = 1, skipna = True) \n",
        "df['min']=d.min(axis = 1, skipna = True) \n",
        "df['max']=d.max(axis = 1, skipna = True) \n",
        "#df['range']=d.range(axis = 1, skipna = True) \n",
        "df['mad']=d.iloc[:,1:179].mad(axis=1)\n",
        "df['y']=y\n",
        "d1=pd.DataFrame()\n",
        "d1=d.T"
      ],
      "execution_count": 13,
      "outputs": []
    },
    {
      "cell_type": "code",
      "metadata": {
        "colab": {
          "base_uri": "https://localhost:8080/",
          "height": 255
        },
        "id": "wqp8ngSFMib8",
        "outputId": "8461d513-319f-4c0e-c476-44db8bdc873b"
      },
      "source": [
        "d1.iloc[1:11500,1:10].plot(subplots=True)\n",
        "plt.show()"
      ],
      "execution_count": 14,
      "outputs": [
        {
          "output_type": "display_data",
          "data": {
            "image/png": "[encoded data removed]",
            "text/plain": [
              "<Figure size 432x288 with 9 Axes>"
            ]
          },
          "metadata": {
            "tags": [],
            "needs_background": "light"
          }
        }
      ]
    },
    {
      "cell_type": "code",
      "metadata": {
        "id": "BF1un6y5Ke5i"
      },
      "source": [
        "#for key,eeg in d.iteritems:\n",
        " # a=eeg.plt.plot()\n",
        "  #fig.savefig(key)"
      ],
      "execution_count": 15,
      "outputs": []
    },
    {
      "cell_type": "code",
      "metadata": {
        "id": "kAnl4tIILj1E"
      },
      "source": [
        "import os\n",
        "figs1='figs1'\n",
        "figs_REst='figs_rest'\n",
        "os.mkdir(figs1)\n",
        "os.mkdir(figs_REst)"
      ],
      "execution_count": 16,
      "outputs": []
    },
    {
      "cell_type": "markdown",
      "metadata": {
        "id": "GdvbqOOcVplG"
      },
      "source": [
        "##Freq Data"
      ]
    },
    {
      "cell_type": "code",
      "metadata": {
        "id": "wqQAZzkFOXzG"
      },
      "source": [
        "from scipy import fftpack\n",
        "SR=178\n",
        "N=(1-0)*SR\n",
        "frequency = np.linspace (0.0, 89, int (N/2))\n",
        "freq_d =fftpack.fft(d1.iloc[1:11500,:].values)\n",
        "y_axis = 2/N * np.abs (freq_d [0:np.int (N/2)])"
      ],
      "execution_count": 17,
      "outputs": []
    },
    {
      "cell_type": "code",
      "metadata": {
        "id": "-T5MZIlBNkWt"
      },
      "source": [
        "freq_d=pd.DataFrame(freq_d)"
      ],
      "execution_count": 18,
      "outputs": []
    },
    {
      "cell_type": "code",
      "metadata": {
        "colab": {
          "base_uri": "https://localhost:8080/",
          "height": 557
        },
        "id": "VQwQuZk9N55U",
        "outputId": "5ba768b2-b09b-4840-faf6-8950abd7f094"
      },
      "source": [
        "freq_d.iloc[:,1:10].plot(subplots=True)\n",
        "plt.show()"
      ],
      "execution_count": 19,
      "outputs": [
        {
          "output_type": "stream",
          "text": [
            "/usr/local/lib/python3.6/dist-packages/numpy/core/_asarray.py:85: ComplexWarning: Casting complex values to real discards the imaginary part\n",
            "  return array(a, dtype, copy=False, order=order)\n",
            "/usr/local/lib/python3.6/dist-packages/numpy/core/_asarray.py:85: ComplexWarning: Casting complex values to real discards the imaginary part\n",
            "  return array(a, dtype, copy=False, order=order)\n",
            "/usr/local/lib/python3.6/dist-packages/numpy/core/_asarray.py:85: ComplexWarning: Casting complex values to real discards the imaginary part\n",
            "  return array(a, dtype, copy=False, order=order)\n",
            "/usr/local/lib/python3.6/dist-packages/numpy/core/_asarray.py:85: ComplexWarning: Casting complex values to real discards the imaginary part\n",
            "  return array(a, dtype, copy=False, order=order)\n",
            "/usr/local/lib/python3.6/dist-packages/numpy/core/_asarray.py:85: ComplexWarning: Casting complex values to real discards the imaginary part\n",
            "  return array(a, dtype, copy=False, order=order)\n",
            "/usr/local/lib/python3.6/dist-packages/numpy/core/_asarray.py:85: ComplexWarning: Casting complex values to real discards the imaginary part\n",
            "  return array(a, dtype, copy=False, order=order)\n",
            "/usr/local/lib/python3.6/dist-packages/numpy/core/_asarray.py:85: ComplexWarning: Casting complex values to real discards the imaginary part\n",
            "  return array(a, dtype, copy=False, order=order)\n",
            "/usr/local/lib/python3.6/dist-packages/numpy/core/_asarray.py:85: ComplexWarning: Casting complex values to real discards the imaginary part\n",
            "  return array(a, dtype, copy=False, order=order)\n",
            "/usr/local/lib/python3.6/dist-packages/numpy/core/_asarray.py:85: ComplexWarning: Casting complex values to real discards the imaginary part\n",
            "  return array(a, dtype, copy=False, order=order)\n"
          ],
          "name": "stderr"
        },
        {
          "output_type": "display_data",
          "data": {
            "image/png": "[encoded data removed]",
            "text/plain": [
              "<Figure size 432x288 with 9 Axes>"
            ]
          },
          "metadata": {
            "tags": [],
            "needs_background": "light"
          }
        }
      ]
    },
    {
      "cell_type": "markdown",
      "metadata": {
        "id": "qvSszvTwVm9B"
      },
      "source": [
        "###Peaks"
      ]
    },
    {
      "cell_type": "code",
      "metadata": {
        "colab": {
          "base_uri": "https://localhost:8080/",
          "height": 52
        },
        "id": "7bAxAEqjP8uQ",
        "outputId": "f7e8fed3-0f14-4682-d0dd-3878602783fc"
      },
      "source": [
        "'''\n",
        "from scipy.signal import find_peaks\n",
        "for key,eeg in enumerate(d.columns):\n",
        "  peaks,_=find_peaks(d.iloc[1:11500,i])\n",
        "  plt.plot(d1.iloc[1:11500,:].values)\n",
        "  plt.plot(peaks, d.iloc[1:11500,:].values[peaks], \"x\")\n",
        "'''"
      ],
      "execution_count": 20,
      "outputs": [
        {
          "output_type": "execute_result",
          "data": {
            "application/vnd.google.colaboratory.intrinsic+json": {
              "type": "string"
            },
            "text/plain": [
              "'\\nfrom scipy.signal import find_peaks\\nfor key,eeg in enumerate(d.columns):\\n  peaks,_=find_peaks(d.iloc[1:11500,i])\\n  plt.plot(d1.iloc[1:11500,:].values)\\n  plt.plot(peaks, d.iloc[1:11500,:].values[peaks], \"x\")\\n'"
            ]
          },
          "metadata": {
            "tags": []
          },
          "execution_count": 20
        }
      ]
    },
    {
      "cell_type": "code",
      "metadata": {
        "colab": {
          "base_uri": "https://localhost:8080/"
        },
        "id": "bBi8_2qPVlZj",
        "outputId": "625d3e3c-a96b-476e-e0a0-3a87954c8c23"
      },
      "source": [
        "print(freq_d.applymap(np.absolute))"
      ],
      "execution_count": 21,
      "outputs": [
        {
          "output_type": "stream",
          "text": [
            "         0         1         2      ...     11497     11498     11499\n",
            "0     9.196737  0.362914  0.697211  ...  0.908056  0.697211  0.362914\n",
            "1     8.908106  0.168374  0.592698  ...  0.762074  0.592698  0.168374\n",
            "2     8.904633  0.392694  0.568359  ...  0.708501  0.568359  0.392694\n",
            "3     8.878725  0.709329  0.509032  ...  0.481690  0.509032  0.709329\n",
            "4     8.896218  0.944660  0.386425  ...  0.157809  0.386425  0.944660\n",
            "..         ...       ...       ...  ...       ...       ...       ...\n",
            "173  11.042720  0.926124  0.801300  ...  0.485471  0.801300  0.926124\n",
            "174  10.660164  0.704781  0.823941  ...  0.548458  0.823941  0.704781\n",
            "175  10.284738  0.529351  0.770782  ...  0.773425  0.770782  0.529351\n",
            "176  10.006591  0.498444  0.838227  ...  0.860780  0.838227  0.498444\n",
            "177   9.778222  0.616082  0.922950  ...  0.739407  0.922950  0.616082\n",
            "\n",
            "[178 rows x 11500 columns]\n"
          ],
          "name": "stdout"
        }
      ]
    },
    {
      "cell_type": "code",
      "metadata": {
        "colab": {
          "base_uri": "https://localhost:8080/"
        },
        "id": "h_gT0Huwt9Vn",
        "outputId": "f0fa6f22-0e30-4d8b-9517-6fd6d299e142"
      },
      "source": [
        "d_train=pd.DataFrame\n",
        "d_train=d\n",
        "d_train['skew']= df['skew']\n",
        "d_train['mean']= df['mean']\n",
        "d_train['kurtosis']= df['kurtosis']\n",
        "d_train['variance']= df['variance']\n",
        "d_train['min']= df['min']\n",
        "d_train['max']= df['max']\n",
        "d_train['mad']= df['mad']\n",
        "d.shape"
      ],
      "execution_count": 47,
      "outputs": [
        {
          "output_type": "execute_result",
          "data": {
            "text/plain": [
              "(11500, 186)"
            ]
          },
          "metadata": {
            "tags": []
          },
          "execution_count": 47
        }
      ]
    },
    {
      "cell_type": "code",
      "metadata": {
        "id": "ryYDnjjNmKgN"
      },
      "source": [
        "X = d_train.iloc[0:11500,1:187].values\n",
        "\n",
        "\n",
        "# Splitting the dataset into the Training set and Test set\n",
        "from sklearn.model_selection import train_test_split\n",
        "from xgboost import XGBClassifier\n",
        "X_train, X_test, y_train, y_test = train_test_split(X, y, test_size = 0.25, random_state = 0)\n",
        "\n",
        "# Feature Scaling\n",
        "from sklearn.preprocessing import StandardScaler\n",
        "sc = StandardScaler()\n",
        "X_train = sc.fit_transform(X_train)\n",
        "X_test = sc.transform(X_test)\n",
        "\n",
        "'''\n",
        "from sklearn.svm import SVC\n",
        "classifier = SVC(kernel = 'linear', random_state = 0)\n",
        "classifier.fit(X_train, y_train)\n",
        "\n",
        "'''\n",
        "\n",
        "# Fitting K-NN to the Training set\n",
        "from sklearn.neighbors import KNeighborsClassifier\n",
        "classifier = KNeighborsClassifier(n_neighbors =2 , metric = 'minkowski', p = 2)\n",
        "classifier.fit(X_train, y_train)\n",
        "\n",
        "'''\n",
        "# Fitting Random Forest Classification to the Training set\n",
        "from sklearn.ensemble import RandomForestClassifier\n",
        "classifier = RandomForestClassifier(n_estimators = 10, criterion = 'entropy', random_state = 0)\n",
        "classifier.fit(X_train, y_train)\n",
        "'''\n",
        "'''\n",
        "classifier = XGBClassifier(booster='gbtree',n_estimators=100) \n",
        "classifier.fit(X_train, y_train)\n",
        "'''\n",
        "# Predicting the Test set results\n",
        "y_pred = classifier.predict(X_test)\n",
        "\n"
      ],
      "execution_count": 86,
      "outputs": []
    },
    {
      "cell_type": "code",
      "metadata": {
        "colab": {
          "base_uri": "https://localhost:8080/"
        },
        "id": "lEeo5PD7rV-6",
        "outputId": "4cb929bb-e596-4306-c8aa-8df22f78d5ff"
      },
      "source": [
        "from sklearn.metrics import confusion_matrix, accuracy_score\n",
        "cm = confusion_matrix(y_test, y_pred)\n",
        "accuracy = accuracy_score(y_test, y_pred) \n",
        "print(\"Accuracy: %.2f%%\" % (accuracy * 100.0))"
      ],
      "execution_count": 87,
      "outputs": [
        {
          "output_type": "stream",
          "text": [
            "Accuracy: 52.24%\n"
          ],
          "name": "stdout"
        }
      ]
    },
    {
      "cell_type": "code",
      "metadata": {
        "id": "4Avo_ttKvpg5"
      },
      "source": [
        "import numpy as np\n",
        "from collections import Counter\n",
        "import pandas as pd\n",
        "import lightgbm as lgb\n",
        "from sklearn.datasets import load_breast_cancer,load_boston,load_wine\n",
        "from sklearn.model_selection import train_test_split\n",
        "from sklearn.preprocessing import StandardScaler\n",
        "from sklearn.ensemble import GradientBoostingClassifier\n",
        "from sklearn.metrics import mean_squared_error,roc_auc_score,precision_score\n",
        "#train_test_split \n",
        "X_train,X_test,y_train,y_test=train_test_split(X,y,test_size=0.25,random_state=0)\n",
        "#converting the dataset into proper LGB format \n",
        "d_train1=lgb.Dataset(X_train, label=y_train)\n",
        "#Specifying the parameter\n",
        "params={}\n",
        "params['learning_rate']=0.03\n",
        "params['boosting_type']='gbdt' #GradientBoostingDecisionTree\n",
        "params['objective']='binary' #Binary target feature\n",
        "params['metric']='binary_logloss' #metric for binary classification\n",
        "params['max_depth']=10\n",
        "#train the model \n",
        "clf=lgb.train(params,d_train1,100) #train the model on 100 epocs\n",
        "#prediction on the test set\n",
        "y_pred=clf.predict(X_test)"
      ],
      "execution_count": 80,
      "outputs": []
    },
    {
      "cell_type": "code",
      "metadata": {
        "colab": {
          "base_uri": "https://localhost:8080/"
        },
        "id": "OLA9mIdFv_EV",
        "outputId": "e613366b-6d54-4931-9497-3041b8fea5ce"
      },
      "source": [
        "print(y_pred)"
      ],
      "execution_count": 81,
      "outputs": [
        {
          "output_type": "stream",
          "text": [
            "[1. 1. 1. ... 1. 1. 1.]\n"
          ],
          "name": "stdout"
        }
      ]
    },
    {
      "cell_type": "code",
      "metadata": {
        "id": "S5MaC6M74lM1"
      },
      "source": [
        ""
      ],
      "execution_count": null,
      "outputs": []
    }
  ]
}